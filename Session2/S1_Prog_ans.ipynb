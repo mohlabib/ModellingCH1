{
 "cells": [
  {
   "cell_type": "markdown",
   "metadata": {
    "extensions": {
     "jupyter_dashboards": {
      "version": 1,
      "views": {
       "default_view": {
        "col": 0,
        "height": 2,
        "hidden": false,
        "row": 0,
        "width": 12
       }
      }
     }
    }
   },
   "source": [
    "## Manual fitting vs OLS"
   ]
  },
  {
   "cell_type": "markdown",
   "metadata": {
    "extensions": {
     "jupyter_dashboards": {
      "version": 1,
      "views": {
       "default_view": {
        "col": 0,
        "height": 2,
        "hidden": false,
        "row": 2,
        "width": 12
       }
      }
     }
    }
   },
   "source": [
    "#### Introduction to data fitting"
   ]
  },
  {
   "cell_type": "markdown",
   "metadata": {
    "extensions": {
     "jupyter_dashboards": {
      "version": 1,
      "views": {
       "default_view": {
        "col": 0,
        "height": 2,
        "hidden": false,
        "row": 4,
        "width": 12
       }
      }
     }
    }
   },
   "source": [
    "The table below show the relation between two variables x and z."
   ]
  },
  {
   "cell_type": "markdown",
   "metadata": {
    "extensions": {
     "jupyter_dashboards": {
      "version": 1,
      "views": {
       "default_view": {
        "col": 0,
        "height": 2,
        "hidden": false,
        "row": 6,
        "width": 12
       }
      }
     }
    }
   },
   "source": [
    "|   |   |   |   |   |   |   |   |   |   |\n",
    "|:-:|:-:|:-:|:-:|:-:|:-:|:-:|:-:|:-:|:-:| \n",
    "| x | 1 | 2 | 3 | 4 | 5 | 6 | 7 | 8 | 9 |\n",
    "| z | 1.3 | 2.2 | 3.9 | 5.5 | 6.0 | 7.5 | 9.0 | 9.8 | 11 |"
   ]
  },
  {
   "cell_type": "markdown",
   "metadata": {
    "extensions": {
     "jupyter_dashboards": {
      "version": 1,
      "views": {
       "default_view": {
        "col": 0,
        "height": 2,
        "hidden": false,
        "row": 8,
        "width": 12
       }
      }
     }
    }
   },
   "source": [
    "1. Create variables `x` and `z` to hold the data."
   ]
  },
  {
   "cell_type": "markdown",
   "metadata": {
    "extensions": {
     "jupyter_dashboards": {
      "version": 1,
      "views": {
       "default_view": {
        "col": 0,
        "height": 2,
        "hidden": false,
        "row": 10,
        "width": 12
       }
      }
     }
    }
   },
   "source": [
    "Import `numpy`"
   ]
  },
  {
   "cell_type": "code",
   "execution_count": 1,
   "metadata": {
    "extensions": {
     "jupyter_dashboards": {
      "version": 1,
      "views": {
       "default_view": {
        "hidden": true
       }
      }
     }
    }
   },
   "outputs": [],
   "source": [
    "import numpy as np"
   ]
  },
  {
   "cell_type": "markdown",
   "metadata": {
    "extensions": {
     "jupyter_dashboards": {
      "version": 1,
      "views": {
       "default_view": {
        "col": 0,
        "height": 2,
        "hidden": false,
        "row": 12,
        "width": 12
       }
      }
     }
    }
   },
   "source": [
    "Use `numpy.arange()` to create variable `x`"
   ]
  },
  {
   "cell_type": "code",
   "execution_count": 2,
   "metadata": {
    "extensions": {
     "jupyter_dashboards": {
      "version": 1,
      "views": {
       "default_view": {
        "hidden": true
       }
      }
     }
    }
   },
   "outputs": [],
   "source": [
    "x = np.arange(1,10,1)    # x = [1, 2, 3, ...,9]"
   ]
  },
  {
   "cell_type": "markdown",
   "metadata": {
    "extensions": {
     "jupyter_dashboards": {
      "version": 1,
      "views": {
       "default_view": {
        "col": 0,
        "height": 2,
        "hidden": false,
        "row": 14,
        "width": 12
       }
      }
     }
    }
   },
   "source": [
    "Use `numpy.array()` to create variable `z`"
   ]
  },
  {
   "cell_type": "code",
   "execution_count": 3,
   "metadata": {
    "extensions": {
     "jupyter_dashboards": {
      "version": 1,
      "views": {
       "default_view": {
        "hidden": true
       }
      }
     }
    }
   },
   "outputs": [],
   "source": [
    "z = np.array([1.6, 2.2, 3.9, 5.5, 6.0, 7.5, 9.5, 9.8, 11])    # create array z and assign the given values to it"
   ]
  },
  {
   "cell_type": "markdown",
   "metadata": {
    "extensions": {
     "jupyter_dashboards": {
      "version": 1,
      "views": {
       "default_view": {
        "col": 0,
        "height": 2,
        "hidden": false,
        "row": 16,
        "width": 12
       }
      }
     }
    }
   },
   "source": [
    "2. Plot the data points"
   ]
  },
  {
   "cell_type": "markdown",
   "metadata": {
    "extensions": {
     "jupyter_dashboards": {
      "version": 1,
      "views": {
       "default_view": {
        "col": 0,
        "height": 2,
        "hidden": false,
        "row": 18,
        "width": 12
       }
      }
     }
    }
   },
   "source": [
    "Import `matplotlib.pyplot`"
   ]
  },
  {
   "cell_type": "code",
   "execution_count": 4,
   "metadata": {
    "extensions": {
     "jupyter_dashboards": {
      "version": 1,
      "views": {
       "default_view": {
        "hidden": true
       }
      }
     }
    }
   },
   "outputs": [],
   "source": [
    "import matplotlib.pyplot as plt"
   ]
  },
  {
   "cell_type": "code",
   "execution_count": 5,
   "metadata": {},
   "outputs": [],
   "source": [
    "%matplotlib widget"
   ]
  },
  {
   "cell_type": "markdown",
   "metadata": {
    "extensions": {
     "jupyter_dashboards": {
      "version": 1,
      "views": {
       "default_view": {
        "col": 0,
        "height": 2,
        "hidden": false,
        "row": 20,
        "width": 12
       }
      }
     }
    }
   },
   "source": [
    "Use the `scatter()` function to plot the points. "
   ]
  },
  {
   "cell_type": "code",
   "execution_count": 6,
   "metadata": {
    "extensions": {
     "jupyter_dashboards": {
      "version": 1,
      "views": {
       "default_view": {
        "col": 0,
        "height": 2,
        "hidden": false,
        "row": 22,
        "width": 12
       }
      }
     }
    }
   },
   "outputs": [
    {
     "data": {
      "application/vnd.jupyter.widget-view+json": {
       "model_id": "23097d094b954ed3b738e076d7e6474e",
       "version_major": 2,
       "version_minor": 0
      },
      "text/plain": [
       "Canvas(toolbar=Toolbar(toolitems=[('Home', 'Reset original view', 'home', 'home'), ('Back', 'Back to previous …"
      ]
     },
     "metadata": {},
     "output_type": "display_data"
    }
   ],
   "source": [
    "fig, ax1 = plt.subplots() \n",
    "ax1.plot(x, z, 'o')    # ax1.scatter(x, z) can be used as well\n",
    "ax1.set(xlabel='x', ylabel='y', title = 'Scatter plot for data')\n",
    "plt.show()"
   ]
  },
  {
   "cell_type": "markdown",
   "metadata": {
    "extensions": {
     "jupyter_dashboards": {
      "version": 1,
      "views": {
       "default_view": {
        "col": 0,
        "height": 2,
        "hidden": false,
        "row": 24,
        "width": 12
       }
      }
     }
    }
   },
   "source": [
    "3. Draw a straight line using the equation: $\\hat{z} = \\beta_0 + \\beta_1 x$ that can best fit the data points. Plot the data points and your fit line. Use the `legend()` function to specifiy labels for the different data. \n",
    "\n",
    "Change the values $\\beta_0$ and $\\beta_1$ to give the best fit visually. Record the final values for $\\beta_0$ and $\\beta_1$. "
   ]
  },
  {
   "cell_type": "code",
   "execution_count": 7,
   "metadata": {
    "extensions": {
     "jupyter_dashboards": {
      "version": 1,
      "views": {
       "default_view": {
        "col": 0,
        "height": 2,
        "hidden": false,
        "row": 26,
        "width": 12
       }
      }
     }
    }
   },
   "outputs": [
    {
     "data": {
      "application/vnd.jupyter.widget-view+json": {
       "model_id": "a376d0caae8045ba92cc9e39dd4b2d26",
       "version_major": 2,
       "version_minor": 0
      },
      "text/plain": [
       "Canvas(toolbar=Toolbar(toolitems=[('Home', 'Reset original view', 'home', 'home'), ('Back', 'Back to previous …"
      ]
     },
     "metadata": {},
     "output_type": "display_data"
    }
   ],
   "source": [
    "zhat = 0.5 + 1.5*x    # define zhat equation where you can change the values for b0 and b1\n",
    "fig, ax = plt.subplots() \n",
    "ax.plot(x, z, \"o\", x, zhat, \"-\")   # plot the data and the linear model\n",
    "plt.legend([\"data\", \"myfit\"], loc=\"best\")\n",
    "ax.set(xlabel='x', ylabel='y', title='Manual fitting')\n",
    "plt.show()"
   ]
  },
  {
   "cell_type": "markdown",
   "metadata": {
    "extensions": {
     "jupyter_dashboards": {
      "version": 1,
      "views": {
       "default_view": {
        "col": 0,
        "height": 2,
        "hidden": false,
        "row": 28,
        "width": 12
       }
      }
     }
    }
   },
   "source": [
    "#### OLS method - Main Terminologies\n",
    "1. For the previous example, use the equations presented in the video to calculate $\\beta_0$ and $\\beta_1$. "
   ]
  },
  {
   "cell_type": "markdown",
   "metadata": {
    "extensions": {
     "jupyter_dashboards": {
      "version": 1,
      "views": {
       "default_view": {
        "col": 0,
        "height": 2,
        "hidden": false,
        "row": 30,
        "width": 12
       }
      }
     }
    }
   },
   "source": [
    "Use `numpy.mean()` to calculate the mean of `x` and `z`. Store the results in variables `x_avg` and `z_avg`."
   ]
  },
  {
   "cell_type": "code",
   "execution_count": 8,
   "metadata": {
    "extensions": {
     "jupyter_dashboards": {
      "version": 1,
      "views": {
       "default_view": {
        "hidden": true
       }
      }
     }
    }
   },
   "outputs": [],
   "source": [
    "# calculate average of x\n",
    "x_avg = np.mean(x)"
   ]
  },
  {
   "cell_type": "code",
   "execution_count": 9,
   "metadata": {
    "extensions": {
     "jupyter_dashboards": {
      "version": 1,
      "views": {
       "default_view": {
        "hidden": true
       }
      }
     }
    }
   },
   "outputs": [],
   "source": [
    "# calculate average of z\n",
    "z_avg = np.mean(z)"
   ]
  },
  {
   "cell_type": "markdown",
   "metadata": {
    "extensions": {
     "jupyter_dashboards": {
      "version": 1,
      "views": {
       "default_view": {
        "col": 0,
        "height": 2,
        "hidden": false,
        "row": 32,
        "width": 12
       }
      }
     }
    }
   },
   "source": [
    "Apply the equation to calculate the value of $\\beta_1$ and store it in variable `b1`. Use `numpy.sum()`.\n",
    "\n",
    "$$\\beta_1 = \\frac{\\sum_{i=1}^{n} (x_i - x_{avg})(z_i - z_{avg})}{\\sum_{i=1}^{n} (x_i - x_{avg})^2}$$"
   ]
  },
  {
   "cell_type": "code",
   "execution_count": 10,
   "metadata": {
    "extensions": {
     "jupyter_dashboards": {
      "version": 1,
      "views": {
       "default_view": {
        "col": 0,
        "height": 2,
        "hidden": false,
        "row": 34,
        "width": 12
       }
      }
     }
    }
   },
   "outputs": [
    {
     "name": "stdout",
     "output_type": "stream",
     "text": [
      "b1 = 1.227\n"
     ]
    }
   ],
   "source": [
    "# calcualte b1\n",
    "\n",
    "b1 = np.sum((x-x_avg)*(z-z_avg))/np.sum((x-x_avg)**2)\n",
    "print(\"b1 = {:.3f}\" .format(b1))"
   ]
  },
  {
   "cell_type": "code",
   "execution_count": 11,
   "metadata": {},
   "outputs": [],
   "source": [
    "from IPython.display import display, Latex    # in order to display in Latex"
   ]
  },
  {
   "cell_type": "code",
   "execution_count": 12,
   "metadata": {},
   "outputs": [
    {
     "data": {
      "text/latex": [
       "$\\beta_1 = 1.227$"
      ],
      "text/plain": [
       "<IPython.core.display.Latex object>"
      ]
     },
     "metadata": {},
     "output_type": "display_data"
    }
   ],
   "source": [
    "display(Latex(f'$\\\\beta_1 = {b1.round(3)}$'))    # you can also display in LaTeX"
   ]
  },
  {
   "cell_type": "markdown",
   "metadata": {
    "extensions": {
     "jupyter_dashboards": {
      "version": 1,
      "views": {
       "default_view": {
        "col": 0,
        "height": 2,
        "hidden": false,
        "row": 36,
        "width": 12
       }
      }
     }
    }
   },
   "source": [
    "Apply the equation to calculate the value of $\\beta_0$.\n",
    "\n",
    "$$ \\beta_0 = z_{avg} - \\beta_1 x_{avg}$$"
   ]
  },
  {
   "cell_type": "code",
   "execution_count": 13,
   "metadata": {
    "extensions": {
     "jupyter_dashboards": {
      "version": 1,
      "views": {
       "default_view": {
        "col": 0,
        "height": 2,
        "hidden": false,
        "row": 38,
        "width": 12
       }
      }
     }
    }
   },
   "outputs": [
    {
     "data": {
      "text/latex": [
       "$\\beta_0 = 0.2$"
      ],
      "text/plain": [
       "<IPython.core.display.Latex object>"
      ]
     },
     "metadata": {},
     "output_type": "display_data"
    }
   ],
   "source": [
    "# calculate b0\n",
    "\n",
    "b0 = z_avg - b1*x_avg\n",
    "display(Latex(f'$\\\\beta_0 = {b0.round(3)}$')) "
   ]
  },
  {
   "cell_type": "markdown",
   "metadata": {
    "extensions": {
     "jupyter_dashboards": {
      "version": 1,
      "views": {
       "default_view": {
        "col": 0,
        "height": 2,
        "hidden": false,
        "row": 40,
        "width": 12
       }
      }
     }
    }
   },
   "source": [
    "Calculate $\\hat{z}$ for this model. Store it in a variable `zhat_ols`."
   ]
  },
  {
   "cell_type": "code",
   "execution_count": 14,
   "metadata": {
    "extensions": {
     "jupyter_dashboards": {
      "version": 1,
      "views": {
       "default_view": {
        "hidden": true
       }
      }
     }
    }
   },
   "outputs": [],
   "source": [
    "zhat_ols = b0 + b1*x"
   ]
  },
  {
   "cell_type": "markdown",
   "metadata": {
    "extensions": {
     "jupyter_dashboards": {
      "version": 1,
      "views": {
       "default_view": {
        "col": 0,
        "height": 2,
        "hidden": false,
        "row": 42,
        "width": 12
       }
      }
     }
    }
   },
   "source": [
    "2. Calculate the error sum of squares, $SS_E$, for the past two models.\n",
    "\n",
    "$$ SS_E = \\sum_{i=1}^{n} (z_i - \\hat{z_i})^2 $$"
   ]
  },
  {
   "cell_type": "code",
   "execution_count": 15,
   "metadata": {
    "extensions": {
     "jupyter_dashboards": {
      "version": 1,
      "views": {
       "default_view": {
        "col": 0,
        "height": 2,
        "hidden": false,
        "row": 44,
        "width": 12
       }
      }
     }
    }
   },
   "outputs": [
    {
     "name": "stdout",
     "output_type": "stream",
     "text": [
      "SSE_mymodel = 30.600\n"
     ]
    }
   ],
   "source": [
    "# calculate SSE for your model\n",
    "SSE_mymodel = np.sum((z-zhat)**2)\n",
    "print('SSE_mymodel = {:.3f}' .format(SSE_mymodel))"
   ]
  },
  {
   "cell_type": "code",
   "execution_count": 16,
   "metadata": {
    "extensions": {
     "jupyter_dashboards": {
      "version": 1,
      "views": {
       "default_view": {
        "col": 0,
        "height": 2,
        "hidden": false,
        "row": 46,
        "width": 12
       }
      }
     }
    }
   },
   "outputs": [
    {
     "name": "stdout",
     "output_type": "stream",
     "text": [
      "SSE_ols = 1.117\n"
     ]
    }
   ],
   "source": [
    "# calculate SSE for the OLS model\n",
    "SSE_ols = np.sum((z-zhat_ols)**2)\n",
    "print('SSE_ols = {:.3f}' .format(SSE_ols))"
   ]
  },
  {
   "cell_type": "markdown",
   "metadata": {
    "extensions": {
     "jupyter_dashboards": {
      "version": 1,
      "views": {
       "default_view": {
        "col": 0,
        "height": 2,
        "hidden": false,
        "row": 48,
        "width": 12
       }
      }
     }
    }
   },
   "source": [
    "Which model has lower $SS_E$?"
   ]
  },
  {
   "cell_type": "markdown",
   "metadata": {
    "extensions": {
     "jupyter_dashboards": {
      "version": 1,
      "views": {
       "default_view": {
        "col": 0,
        "height": 2,
        "hidden": false,
        "row": 50,
        "width": 12
       }
      }
     }
    }
   },
   "source": [
    "Now change the values of $\\beta_0$ and $\\beta_1$ in step 3 and note the change in $SS_E$ with each change."
   ]
  },
  {
   "cell_type": "markdown",
   "metadata": {
    "extensions": {
     "jupyter_dashboards": {
      "version": 1,
      "views": {
       "default_view": {
        "col": 0,
        "height": 2,
        "hidden": false,
        "row": 52,
        "width": 12
       }
      }
     }
    }
   },
   "source": [
    "#### Model Evaluation"
   ]
  },
  {
   "cell_type": "markdown",
   "metadata": {
    "extensions": {
     "jupyter_dashboards": {
      "version": 1,
      "views": {
       "default_view": {
        "col": 0,
        "height": 2,
        "hidden": false,
        "row": 54,
        "width": 12
       }
      }
     }
    }
   },
   "source": [
    "Create a function to calculate the values of $R^2$, $RMSE$, $MBE$ and $DW$."
   ]
  },
  {
   "cell_type": "code",
   "execution_count": 17,
   "metadata": {
    "extensions": {
     "jupyter_dashboards": {
      "version": 1,
      "views": {
       "default_view": {
        "hidden": true
       }
      }
     }
    }
   },
   "outputs": [],
   "source": [
    "def modelevaluation(z, zhat, n, k):\n",
    "    \n",
    "    \"\"\"\n",
    "    The function takes as input, the responses 'z', the responses predicted by the model 'zhat', \n",
    "    the number of data points 'n', and the number of independent variables + y-intercept 'k'.\n",
    "    The function displays the values: R^2, RMSE, MBE and DW\n",
    "    \"\"\"\n",
    "    # calculate the requested values based on the equations used in the session\n",
    "    RMSE = np.sqrt(np.sum((z-zhat)**2)/(n-k))\n",
    "    MBE = np.sum(z-zhat)/(n-k)\n",
    "    SSR = np.sum((zhat - np.mean(z))**2)\n",
    "    SST = np.sum((z - np.mean(z))**2)\n",
    "    SSE = np.sum((z-zhat)**2)\n",
    "    Rsqr = 1 - SSE/SST\n",
    "    err = z - zhat\n",
    "    DW = (np.sum((np.diff(err))**2))/sum(err**2)\n",
    "    \n",
    "    # display the requested values\n",
    "    display(Latex(f'RMSE = {RMSE.round(3)}'))\n",
    "    display(Latex(f'MBE = {MBE}'))\n",
    "    display(Latex(f'R$^2$ = {Rsqr.round(3)}'))\n",
    "    display(Latex(f'DW = {Rsqr.round(3)}'))"
   ]
  },
  {
   "cell_type": "markdown",
   "metadata": {
    "extensions": {
     "jupyter_dashboards": {
      "version": 1,
      "views": {
       "default_view": {
        "col": 0,
        "height": 2,
        "hidden": false,
        "row": 56,
        "width": 12
       }
      }
     }
    }
   },
   "source": [
    "Run the function for your model and the model created by using the OLS method. Note the difference in the results."
   ]
  },
  {
   "cell_type": "code",
   "execution_count": 18,
   "metadata": {
    "extensions": {
     "jupyter_dashboards": {
      "version": 1,
      "views": {
       "default_view": {
        "col": 0,
        "height": 2,
        "hidden": false,
        "row": 58,
        "width": 12
       }
      }
     }
    }
   },
   "outputs": [
    {
     "data": {
      "text/latex": [
       "RMSE = 2.091"
      ],
      "text/plain": [
       "<IPython.core.display.Latex object>"
      ]
     },
     "metadata": {},
     "output_type": "display_data"
    },
    {
     "data": {
      "text/latex": [
       "MBE = -2.142857142857143"
      ],
      "text/plain": [
       "<IPython.core.display.Latex object>"
      ]
     },
     "metadata": {},
     "output_type": "display_data"
    },
    {
     "data": {
      "text/latex": [
       "R$^2$ = 0.665"
      ],
      "text/plain": [
       "<IPython.core.display.Latex object>"
      ]
     },
     "metadata": {},
     "output_type": "display_data"
    },
    {
     "data": {
      "text/latex": [
       "DW = 0.665"
      ],
      "text/plain": [
       "<IPython.core.display.Latex object>"
      ]
     },
     "metadata": {},
     "output_type": "display_data"
    }
   ],
   "source": [
    "modelevaluation(z, zhat, 9, 2)"
   ]
  },
  {
   "cell_type": "code",
   "execution_count": 19,
   "metadata": {
    "extensions": {
     "jupyter_dashboards": {
      "version": 1,
      "views": {
       "default_view": {
        "col": 0,
        "height": 2,
        "hidden": false,
        "row": 60,
        "width": 12
       }
      }
     }
    }
   },
   "outputs": [
    {
     "data": {
      "text/latex": [
       "RMSE = 0.4"
      ],
      "text/plain": [
       "<IPython.core.display.Latex object>"
      ]
     },
     "metadata": {},
     "output_type": "display_data"
    },
    {
     "data": {
      "text/latex": [
       "MBE = 1.5860328923216522e-16"
      ],
      "text/plain": [
       "<IPython.core.display.Latex object>"
      ]
     },
     "metadata": {},
     "output_type": "display_data"
    },
    {
     "data": {
      "text/latex": [
       "R$^2$ = 0.988"
      ],
      "text/plain": [
       "<IPython.core.display.Latex object>"
      ]
     },
     "metadata": {},
     "output_type": "display_data"
    },
    {
     "data": {
      "text/latex": [
       "DW = 0.988"
      ],
      "text/plain": [
       "<IPython.core.display.Latex object>"
      ]
     },
     "metadata": {},
     "output_type": "display_data"
    }
   ],
   "source": [
    "modelevaluation(z, zhat_ols, 9, 2)"
   ]
  }
 ],
 "metadata": {
  "extensions": {
   "jupyter_dashboards": {
    "activeView": "default_view",
    "version": 1,
    "views": {
     "default_view": {
      "cellMargin": 10,
      "defaultCellHeight": 40,
      "maxColumns": 12,
      "name": "active_view",
      "type": "grid"
     }
    }
   }
  },
  "kernelspec": {
   "display_name": "Python 3 (ipykernel)",
   "language": "python",
   "name": "python3"
  },
  "language_info": {
   "codemirror_mode": {
    "name": "ipython",
    "version": 3
   },
   "file_extension": ".py",
   "mimetype": "text/x-python",
   "name": "python",
   "nbconvert_exporter": "python",
   "pygments_lexer": "ipython3",
   "version": "3.8.11"
  }
 },
 "nbformat": 4,
 "nbformat_minor": 4
}
