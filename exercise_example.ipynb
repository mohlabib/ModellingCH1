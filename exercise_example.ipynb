{
 "cells": [
  {
   "cell_type": "markdown",
   "metadata": {
    "extensions": {
     "jupyter_dashboards": {
      "version": 1,
      "views": {
       "default_view": {
        "col": 0,
        "height": 2,
        "hidden": false,
        "row": 0,
        "width": 12
       }
      }
     }
    }
   },
   "source": [
    "## Manual fitting vs OLS"
   ]
  },
  {
   "cell_type": "markdown",
   "metadata": {
    "extensions": {
     "jupyter_dashboards": {
      "version": 1,
      "views": {
       "default_view": {
        "col": 0,
        "height": 2,
        "hidden": false,
        "row": 2,
        "width": 12
       }
      }
     }
    }
   },
   "source": [
    "#### Introduction to data fitting"
   ]
  },
  {
   "cell_type": "markdown",
   "metadata": {
    "extensions": {
     "jupyter_dashboards": {
      "version": 1,
      "views": {
       "default_view": {
        "col": 0,
        "height": 2,
        "hidden": false,
        "row": 4,
        "width": 12
       }
      }
     }
    }
   },
   "source": [
    "The table below show the relation between two variables x and z."
   ]
  },
  {
   "cell_type": "markdown",
   "metadata": {
    "extensions": {
     "jupyter_dashboards": {
      "version": 1,
      "views": {
       "default_view": {
        "col": 0,
        "height": 2,
        "hidden": false,
        "row": 6,
        "width": 12
       }
      }
     }
    }
   },
   "source": [
    "|   |   |   |   |   |   |   |   |   |   |\n",
    "|:-:|:-:|:-:|:-:|:-:|:-:|:-:|:-:|:-:|:-:| \n",
    "| x | 1 | 2 | 3 | 4 | 5 | 6 | 7 | 8 | 9 |\n",
    "| z | 1.3 | 2.2 | 3.9 | 5.5 | 6.0 | 7.5 | 9.0 | 9.8 | 11 |"
   ]
  },
  {
   "cell_type": "markdown",
   "metadata": {
    "extensions": {
     "jupyter_dashboards": {
      "version": 1,
      "views": {
       "default_view": {
        "col": 0,
        "height": 2,
        "hidden": false,
        "row": 8,
        "width": 12
       }
      }
     }
    }
   },
   "source": [
    "1. Create variables `x` and `z` to hold the data."
   ]
  },
  {
   "cell_type": "markdown",
   "metadata": {
    "extensions": {
     "jupyter_dashboards": {
      "version": 1,
      "views": {
       "default_view": {
        "col": 0,
        "height": 2,
        "hidden": false,
        "row": 10,
        "width": 12
       }
      }
     }
    }
   },
   "source": [
    "Import `numpy`"
   ]
  },
  {
   "cell_type": "code",
   "execution_count": 1,
   "metadata": {
    "extensions": {
     "jupyter_dashboards": {
      "version": 1,
      "views": {
       "default_view": {
        "hidden": true
       }
      }
     }
    }
   },
   "outputs": [],
   "source": [
    "import numpy as np"
   ]
  },
  {
   "cell_type": "markdown",
   "metadata": {
    "extensions": {
     "jupyter_dashboards": {
      "version": 1,
      "views": {
       "default_view": {
        "col": 0,
        "height": 2,
        "hidden": false,
        "row": 12,
        "width": 12
       }
      }
     }
    }
   },
   "source": [
    "Use `numpy.arange()` to create variable `x`"
   ]
  },
  {
   "cell_type": "code",
   "execution_count": 2,
   "metadata": {
    "extensions": {
     "jupyter_dashboards": {
      "version": 1,
      "views": {
       "default_view": {
        "hidden": true
       }
      }
     }
    }
   },
   "outputs": [],
   "source": [
    "x = np.arange(1,10,1)"
   ]
  },
  {
   "cell_type": "markdown",
   "metadata": {
    "extensions": {
     "jupyter_dashboards": {
      "version": 1,
      "views": {
       "default_view": {
        "col": 0,
        "height": 2,
        "hidden": false,
        "row": 14,
        "width": 12
       }
      }
     }
    }
   },
   "source": [
    "Use `numpy.array()` to create variable `z`"
   ]
  },
  {
   "cell_type": "code",
   "execution_count": 3,
   "metadata": {
    "extensions": {
     "jupyter_dashboards": {
      "version": 1,
      "views": {
       "default_view": {
        "hidden": true
       }
      }
     }
    }
   },
   "outputs": [],
   "source": [
    "z = np.array([1.6, 2.2, 3.9, 5.5, 6.0, 7.5, 9.5, 9.8, 11])"
   ]
  },
  {
   "cell_type": "markdown",
   "metadata": {
    "extensions": {
     "jupyter_dashboards": {
      "version": 1,
      "views": {
       "default_view": {
        "col": 0,
        "height": 2,
        "hidden": false,
        "row": 16,
        "width": 12
       }
      }
     }
    }
   },
   "source": [
    "2. Plot the data points"
   ]
  },
  {
   "cell_type": "markdown",
   "metadata": {
    "extensions": {
     "jupyter_dashboards": {
      "version": 1,
      "views": {
       "default_view": {
        "col": 0,
        "height": 2,
        "hidden": false,
        "row": 18,
        "width": 12
       }
      }
     }
    }
   },
   "source": [
    "Import `matplotlib.pyplot`"
   ]
  },
  {
   "cell_type": "code",
   "execution_count": 4,
   "metadata": {
    "extensions": {
     "jupyter_dashboards": {
      "version": 1,
      "views": {
       "default_view": {
        "hidden": true
       }
      }
     }
    }
   },
   "outputs": [],
   "source": [
    "import matplotlib.pyplot as plt"
   ]
  },
  {
   "cell_type": "markdown",
   "metadata": {
    "extensions": {
     "jupyter_dashboards": {
      "version": 1,
      "views": {
       "default_view": {
        "col": 0,
        "height": 2,
        "hidden": false,
        "row": 20,
        "width": 12
       }
      }
     }
    }
   },
   "source": [
    "Use the `scatter()` function to plot the points. "
   ]
  },
  {
   "cell_type": "code",
   "execution_count": 5,
   "metadata": {
    "extensions": {
     "jupyter_dashboards": {
      "version": 1,
      "views": {
       "default_view": {
        "col": 0,
        "height": 2,
        "hidden": false,
        "row": 22,
        "width": 12
       }
      }
     }
    }
   },
   "outputs": [
    {
     "data": {
      "text/plain": [
       "<matplotlib.collections.PathCollection at 0x1f9f62e2c10>"
      ]
     },
     "execution_count": 5,
     "metadata": {},
     "output_type": "execute_result"
    },
    {
     "data": {
      "image/png": "[encoded data removed]",
      "text/plain": [
       "<Figure size 432x288 with 1 Axes>"
      ]
     },
     "metadata": {
      "needs_background": "light"
     },
     "output_type": "display_data"
    }
   ],
   "source": [
    "plt.scatter(x,z)"
   ]
  },
  {
   "cell_type": "markdown",
   "metadata": {
    "extensions": {
     "jupyter_dashboards": {
      "version": 1,
      "views": {
       "default_view": {
        "col": 0,
        "height": 2,
        "hidden": false,
        "row": 24,
        "width": 12
       }
      }
     }
    }
   },
   "source": [
    "3. Draw a straight line using the equation: $\\hat{z} = \\beta_0 + \\beta_1 x$ that can best fit the data points. Plot the data points and your fit line. Use the `legend()` function to specifiy labels for the different data. \n",
    "\n",
    "Change the values $\\beta_0$ and $\\beta_1$ to give the best fit visually (allow for 5 maximum number of trials). Record the final values for $\\beta_0$ and $\\beta_1$. "
   ]
  },
  {
   "cell_type": "code",
   "execution_count": 6,
   "metadata": {
    "extensions": {
     "jupyter_dashboards": {
      "version": 1,
      "views": {
       "default_view": {
        "col": 0,
        "height": 2,
        "hidden": false,
        "row": 26,
        "width": 12
       }
      }
     }
    }
   },
   "outputs": [
    {
     "data": {
      "text/plain": [
       "<matplotlib.legend.Legend at 0x1f9f634cca0>"
      ]
     },
     "execution_count": 6,
     "metadata": {},
     "output_type": "execute_result"
    },
    {
     "data": {
      "image/png": "[encoded data removed]",
      "text/plain": [
       "<Figure size 432x288 with 1 Axes>"
      ]
     },
     "metadata": {
      "needs_background": "light"
     },
     "output_type": "display_data"
    }
   ],
   "source": [
    "zhat = 0 + 1.25*x\n",
    "fig, ax = plt.subplots() \n",
    "ax.plot(x, z, \"o\", x, zhat, \"-\") \n",
    "plt.legend([\"data\", \"myfit\"], loc=\"best\")"
   ]
  },
  {
   "cell_type": "markdown",
   "metadata": {
    "extensions": {
     "jupyter_dashboards": {
      "version": 1,
      "views": {
       "default_view": {
        "col": 0,
        "height": 2,
        "hidden": false,
        "row": 28,
        "width": 12
       }
      }
     }
    }
   },
   "source": [
    "#### OLS method - Main Terminologies\n",
    "1. For the previous example, use the equations presented in the video to calculate $\\beta_0$ and $\\beta_1$. "
   ]
  },
  {
   "cell_type": "markdown",
   "metadata": {
    "extensions": {
     "jupyter_dashboards": {
      "version": 1,
      "views": {
       "default_view": {
        "col": 0,
        "height": 2,
        "hidden": false,
        "row": 30,
        "width": 12
       }
      }
     }
    }
   },
   "source": [
    "Use `numpy.mean()` to calculate the mean of `x` and `z`. Store the results in variables `x_avg` and `z_avg`."
   ]
  },
  {
   "cell_type": "code",
   "execution_count": 7,
   "metadata": {
    "extensions": {
     "jupyter_dashboards": {
      "version": 1,
      "views": {
       "default_view": {
        "hidden": true
       }
      }
     }
    }
   },
   "outputs": [],
   "source": [
    "# calculate average of x\n",
    "x_avg = np.mean(x)"
   ]
  },
  {
   "cell_type": "code",
   "execution_count": 8,
   "metadata": {
    "extensions": {
     "jupyter_dashboards": {
      "version": 1,
      "views": {
       "default_view": {
        "hidden": true
       }
      }
     }
    }
   },
   "outputs": [],
   "source": [
    "# calculate average of z\n",
    "z_avg = np.mean(z)"
   ]
  },
  {
   "cell_type": "markdown",
   "metadata": {
    "extensions": {
     "jupyter_dashboards": {
      "version": 1,
      "views": {
       "default_view": {
        "col": 0,
        "height": 2,
        "hidden": false,
        "row": 32,
        "width": 12
       }
      }
     }
    }
   },
   "source": [
    "Apply the equation to calculate the value of $\\beta_1$ and store it in variable `b1`. Use `numpy.sum()`.\n",
    "\n",
    "$$\\beta_1 = \\frac{\\sum_{i=1}^{n} (x_i - x_{avg})(z_i - z_{avg})}{\\sum_{i=1}^{n} (x_i - x_{avg})^2}$$"
   ]
  },
  {
   "cell_type": "code",
   "execution_count": 9,
   "metadata": {
    "extensions": {
     "jupyter_dashboards": {
      "version": 1,
      "views": {
       "default_view": {
        "col": 0,
        "height": 2,
        "hidden": false,
        "row": 34,
        "width": 12
       }
      }
     }
    }
   },
   "outputs": [
    {
     "data": {
      "text/plain": [
       "1.2266666666666668"
      ]
     },
     "execution_count": 9,
     "metadata": {},
     "output_type": "execute_result"
    }
   ],
   "source": [
    "# calcualte b1\n",
    "b1 = np.sum((x-x_avg)*(z-z_avg))/np.sum((x-x_avg)**2)\n",
    "b1"
   ]
  },
  {
   "cell_type": "markdown",
   "metadata": {
    "extensions": {
     "jupyter_dashboards": {
      "version": 1,
      "views": {
       "default_view": {
        "col": 0,
        "height": 2,
        "hidden": false,
        "row": 36,
        "width": 12
       }
      }
     }
    }
   },
   "source": [
    "Apply the equation to calculate the value of $\\beta_0$.\n",
    "\n",
    "$$ \\beta_0 = z_{avg} - \\beta_1 x_{avg}$$"
   ]
  },
  {
   "cell_type": "code",
   "execution_count": 10,
   "metadata": {
    "extensions": {
     "jupyter_dashboards": {
      "version": 1,
      "views": {
       "default_view": {
        "col": 0,
        "height": 2,
        "hidden": false,
        "row": 38,
        "width": 12
       }
      }
     }
    }
   },
   "outputs": [
    {
     "data": {
      "text/plain": [
       "0.1999999999999993"
      ]
     },
     "execution_count": 10,
     "metadata": {},
     "output_type": "execute_result"
    }
   ],
   "source": [
    "# calculate b0\n",
    "b0 = z_avg - b1*x_avg\n",
    "b0"
   ]
  },
  {
   "cell_type": "markdown",
   "metadata": {
    "extensions": {
     "jupyter_dashboards": {
      "version": 1,
      "views": {
       "default_view": {
        "col": 0,
        "height": 2,
        "hidden": false,
        "row": 40,
        "width": 12
       }
      }
     }
    }
   },
   "source": [
    "Calculate $\\hat{z}$ for this model. Store it in a variable `zhat_ols`."
   ]
  },
  {
   "cell_type": "code",
   "execution_count": 11,
   "metadata": {
    "extensions": {
     "jupyter_dashboards": {
      "version": 1,
      "views": {
       "default_view": {
        "hidden": true
       }
      }
     }
    }
   },
   "outputs": [],
   "source": [
    "zhat_ols = b0 + b1*x"
   ]
  },
  {
   "cell_type": "markdown",
   "metadata": {
    "extensions": {
     "jupyter_dashboards": {
      "version": 1,
      "views": {
       "default_view": {
        "col": 0,
        "height": 2,
        "hidden": false,
        "row": 42,
        "width": 12
       }
      }
     }
    }
   },
   "source": [
    "2. Calculate the error sum of squares, $SS_E$, for the past two models.\n",
    "\n",
    "$$ SS_E = \\sum_{i=1}^{n} (z_i - \\hat{z_i})^2 $$"
   ]
  },
  {
   "cell_type": "code",
   "execution_count": 12,
   "metadata": {
    "extensions": {
     "jupyter_dashboards": {
      "version": 1,
      "views": {
       "default_view": {
        "col": 0,
        "height": 2,
        "hidden": false,
        "row": 44,
        "width": 12
       }
      }
     }
    }
   },
   "outputs": [
    {
     "data": {
      "text/plain": [
       "1.2124999999999997"
      ]
     },
     "execution_count": 12,
     "metadata": {},
     "output_type": "execute_result"
    }
   ],
   "source": [
    "# calculate SSE for your model\n",
    "SSE_mymodel = np.sum((z-zhat)**2)\n",
    "SSE_mymodel"
   ]
  },
  {
   "cell_type": "code",
   "execution_count": 13,
   "metadata": {
    "extensions": {
     "jupyter_dashboards": {
      "version": 1,
      "views": {
       "default_view": {
        "col": 0,
        "height": 2,
        "hidden": false,
        "row": 46,
        "width": 12
       }
      }
     }
    }
   },
   "outputs": [
    {
     "data": {
      "text/plain": [
       "1.1173333333333324"
      ]
     },
     "execution_count": 13,
     "metadata": {},
     "output_type": "execute_result"
    }
   ],
   "source": [
    "# calculate SSE for the OLS model\n",
    "SSE_ols = np.sum((z-zhat_ols)**2)\n",
    "SSE_ols"
   ]
  },
  {
   "cell_type": "markdown",
   "metadata": {
    "extensions": {
     "jupyter_dashboards": {
      "version": 1,
      "views": {
       "default_view": {
        "col": 0,
        "height": 2,
        "hidden": false,
        "row": 48,
        "width": 12
       }
      }
     }
    }
   },
   "source": [
    "Which model has lower $SS_E$?"
   ]
  },
  {
   "cell_type": "markdown",
   "metadata": {
    "extensions": {
     "jupyter_dashboards": {
      "version": 1,
      "views": {
       "default_view": {
        "col": 0,
        "height": 2,
        "hidden": false,
        "row": 50,
        "width": 12
       }
      }
     }
    }
   },
   "source": [
    "Now change the values of $\\beta_0$ and $\\beta_1$ in step 3 and note the change in $SS_E$ with each change."
   ]
  },
  {
   "cell_type": "markdown",
   "metadata": {
    "extensions": {
     "jupyter_dashboards": {
      "version": 1,
      "views": {
       "default_view": {
        "col": 0,
        "height": 2,
        "hidden": false,
        "row": 52,
        "width": 12
       }
      }
     }
    }
   },
   "source": [
    "#### Model Evaluation"
   ]
  },
  {
   "cell_type": "markdown",
   "metadata": {
    "extensions": {
     "jupyter_dashboards": {
      "version": 1,
      "views": {
       "default_view": {
        "col": 0,
        "height": 2,
        "hidden": false,
        "row": 54,
        "width": 12
       }
      }
     }
    }
   },
   "source": [
    "Create a function to calculate the values of $R^2$, $RMSE$, $MBE$ and $DW$."
   ]
  },
  {
   "cell_type": "code",
   "execution_count": 14,
   "metadata": {
    "extensions": {
     "jupyter_dashboards": {
      "version": 1,
      "views": {
       "default_view": {
        "hidden": true
       }
      }
     }
    }
   },
   "outputs": [],
   "source": [
    "def modelevaluation(z, zhat, n, k):\n",
    "    RMSE = np.sqrt(np.sum((z-zhat)**2)/(n-k))\n",
    "    MBE = np.sum(z-zhat)/(n-k)\n",
    "    SSR = np.sum((zhat - np.mean(z))**2)\n",
    "    SST = np.sum((z - np.mean(z))**2)\n",
    "    SSE = np.sum((z-zhat)**2)\n",
    "    Rsqr = 1 - SSE/SST\n",
    "    err = z - zhat\n",
    "    DW = (np.sum((np.diff(err))**2))/sum(err**2)\n",
    "\n",
    "    print('RMSE = ', RMSE)\n",
    "    print('MBE = ', MBE)\n",
    "    display(Latex(f'$R^2$ = {Rsqr}'))\n",
    "    print('DW = ', DW)"
   ]
  },
  {
   "cell_type": "markdown",
   "metadata": {
    "extensions": {
     "jupyter_dashboards": {
      "version": 1,
      "views": {
       "default_view": {
        "col": 0,
        "height": 2,
        "hidden": false,
        "row": 56,
        "width": 12
       }
      }
     }
    }
   },
   "source": [
    "Run the function for your model and the model created by using the OLS method. Note the difference in the results."
   ]
  },
  {
   "cell_type": "code",
   "execution_count": 15,
   "metadata": {
    "extensions": {
     "jupyter_dashboards": {
      "version": 1,
      "views": {
       "default_view": {
        "col": 0,
        "height": 2,
        "hidden": false,
        "row": 58,
        "width": 12
       }
      }
     }
    }
   },
   "outputs": [
    {
     "name": "stdout",
     "output_type": "stream",
     "text": [
      "RMSE =  0.4161902037702061\n",
      "MBE =  0.10714285714285728\n"
     ]
    },
    {
     "data": {
      "text/latex": [
       "$R^2$ = 0.9867341356673961"
      ],
      "text/plain": [
       "<IPython.core.display.Latex object>"
      ]
     },
     "metadata": {},
     "output_type": "display_data"
    },
    {
     "name": "stdout",
     "output_type": "stream",
     "text": [
      "DW =  2.3422680412371126\n"
     ]
    }
   ],
   "source": [
    "from IPython.display import display, Latex\n",
    "modelevaluation(z, zhat, 9, 2)"
   ]
  },
  {
   "cell_type": "code",
   "execution_count": 16,
   "metadata": {
    "extensions": {
     "jupyter_dashboards": {
      "version": 1,
      "views": {
       "default_view": {
        "col": 0,
        "height": 2,
        "hidden": false,
        "row": 60,
        "width": 12
       }
      }
     }
    }
   },
   "outputs": [
    {
     "name": "stdout",
     "output_type": "stream",
     "text": [
      "RMSE =  0.39952352573915784\n",
      "MBE =  1.5860328923216522e-16\n"
     ]
    },
    {
     "data": {
      "text/latex": [
       "$R^2$ = 0.9877753464624361"
      ],
      "text/plain": [
       "<IPython.core.display.Latex object>"
      ]
     },
     "metadata": {},
     "output_type": "display_data"
    },
    {
     "name": "stdout",
     "output_type": "stream",
     "text": [
      "DW =  2.5206046141607006\n"
     ]
    }
   ],
   "source": [
    "modelevaluation(z, zhat_ols, 9, 2)"
   ]
  },
  {
   "cell_type": "markdown",
   "metadata": {
    "extensions": {
     "jupyter_dashboards": {
      "version": 1,
      "views": {
       "default_view": {
        "col": 0,
        "height": 2,
        "hidden": false,
        "row": 62,
        "width": 12
       }
      }
     }
    }
   },
   "source": [
    "### Self-learning exercises "
   ]
  },
  {
   "cell_type": "markdown",
   "metadata": {
    "extensions": {
     "jupyter_dashboards": {
      "version": 1,
      "views": {
       "default_view": {
        "col": 0,
        "height": 2,
        "hidden": false,
        "row": 64,
        "width": 12
       }
      }
     }
    }
   },
   "source": [
    "1. Run the below cells. Change the values of the model parameters $\\beta_0$, $\\beta_1$, $\\beta_2$, $\\beta_3$ and $\\beta_4$ one at a time and note the changes in the plot and values of $SSE$, $Rsqr$ and $DW$. Do you think it is possible to fit a model to such data manually? Initial values have been given to help you with the process."
   ]
  },
  {
   "cell_type": "code",
   "execution_count": 17,
   "metadata": {
    "extensions": {
     "jupyter_dashboards": {
      "version": 1,
      "views": {
       "default_view": {
        "hidden": true
       }
      }
     }
    }
   },
   "outputs": [],
   "source": [
    "import ipywidgets as widgets"
   ]
  },
  {
   "cell_type": "code",
   "execution_count": 18,
   "metadata": {
    "extensions": {
     "jupyter_dashboards": {
      "version": 1,
      "views": {
       "default_view": {
        "hidden": true
       }
      }
     }
    }
   },
   "outputs": [],
   "source": [
    "%matplotlib widget"
   ]
  },
  {
   "cell_type": "code",
   "execution_count": 19,
   "metadata": {
    "extensions": {
     "jupyter_dashboards": {
      "version": 1,
      "views": {
       "default_view": {
        "col": 0,
        "height": 2,
        "hidden": false,
        "row": 66,
        "width": 12
       }
      }
     }
    }
   },
   "outputs": [
    {
     "data": {
      "application/vnd.jupyter.widget-view+json": {
       "model_id": "e5e816d50b524178908a21863818c96b",
       "version_major": 2,
       "version_minor": 0
      },
      "text/plain": [
       "Canvas(toolbar=Toolbar(toolitems=[('Home', 'Reset original view', 'home', 'home'), ('Back', 'Back to previous …"
      ]
     },
     "metadata": {},
     "output_type": "display_data"
    },
    {
     "data": {
      "application/vnd.jupyter.widget-view+json": {
       "model_id": "1bb73987f943400ca50122aedaee19dc",
       "version_major": 2,
       "version_minor": 0
      },
      "text/plain": [
       "interactive(children=(FloatText(value=0.5, description='\\\\(\\\\beta_4\\\\)'), FloatText(value=0.5, description='\\\\…"
      ]
     },
     "metadata": {},
     "output_type": "display_data"
    }
   ],
   "source": [
    "# create figure\n",
    "fig, ax = plt.subplots(figsize=(10, 4))\n",
    "plt.suptitle('Linear model')\n",
    "\n",
    "# synthetic input data\n",
    "np.random.seed(0)\n",
    "x = np.linspace(-1,1,30)\n",
    "z = x - 2 * (x ** 2) + 0.5 * (x ** 3) + 0.2 * (x ** 4) + np.random.normal(-0.1, 0.1, 30)\n",
    "\n",
    "# function to update plot based on input model parameters\n",
    "def update_plot(b4, b3, b2, b1, b0):\n",
    "    ax.clear()\n",
    "    y = b4*x**4 + b3*x**3 + b2*x**2 + b1*x + b0\n",
    "    SSE = np.sum((z-y)**2)\n",
    "    SST = np.sum((z - np.mean(z))**2)\n",
    "    Rsqr = 1 - SSE/SST\n",
    "    err = z - y\n",
    "    DW = (np.sum((np.diff(err))**2))/sum(err**2)\n",
    "    evalu = 'SSE= {} \\nRsq = {} \\nDW = {}'\n",
    "    ax.plot(x,y,'-', label=evalu.format(SSE,Rsqr,DW))\n",
    "    ax.scatter(x,z,s=20, c=\"orange\")\n",
    "    ax.set(ylabel = 'y', xlabel = 'x')\n",
    "    ax.legend(loc='best')\n",
    "    plt.show()\n",
    "\n",
    "# create widgets\n",
    "b4 = widgets.FloatText(value=0.5, description=r'\\(\\beta_4\\)')\n",
    "b3 = widgets.FloatText(value=0.5, description=r'\\(\\beta_3\\)')\n",
    "b2 = widgets.FloatText(value=-1.5977, description=r'\\(\\beta_2\\)')\n",
    "b1 = widgets.FloatText(value=0.6048, description=r'\\(\\beta_1\\)')\n",
    "b0 = widgets.FloatText(value=-0.0922, description=r'\\(\\beta_0\\)')\n",
    "# left_box = widgets.VBox([b0, b1, b2])\n",
    "# right_box = widgets.VBox([b3, b4])\n",
    "# widgets.HBox([left_box, right_box])\n",
    "\n",
    "# call function update_plot when changing the model parameters values\n",
    "widgets.interactive(update_plot, b4=b4, b3=b3, b2=b2, b1=b1, b0=b0)"
   ]
  },
  {
   "cell_type": "markdown",
   "metadata": {
    "extensions": {
     "jupyter_dashboards": {
      "version": 1,
      "views": {
       "default_view": {
        "col": 0,
        "height": 2,
        "hidden": false,
        "row": 68,
        "width": 12
       }
      }
     }
    }
   },
   "source": [
    "2. Run the below cells. Note the changes in model parameters (coef) and other evaluation values shown in the table printed, each time you change the model degree. Compare the OLS parameters results to the values you tried in the last exercise."
   ]
  },
  {
   "cell_type": "code",
   "execution_count": 20,
   "metadata": {
    "extensions": {
     "jupyter_dashboards": {
      "version": 1,
      "views": {
       "default_view": {
        "hidden": true
       }
      }
     }
    }
   },
   "outputs": [],
   "source": [
    "from sklearn.linear_model import LinearRegression"
   ]
  },
  {
   "cell_type": "code",
   "execution_count": 21,
   "metadata": {
    "extensions": {
     "jupyter_dashboards": {
      "version": 1,
      "views": {
       "default_view": {
        "hidden": true
       }
      }
     }
    }
   },
   "outputs": [],
   "source": [
    "from sklearn.preprocessing import PolynomialFeatures"
   ]
  },
  {
   "cell_type": "code",
   "execution_count": 22,
   "metadata": {
    "extensions": {
     "jupyter_dashboards": {
      "version": 1,
      "views": {
       "default_view": {
        "hidden": true
       }
      }
     }
    }
   },
   "outputs": [],
   "source": [
    "import statsmodels.api as sm"
   ]
  },
  {
   "cell_type": "code",
   "execution_count": 23,
   "metadata": {
    "extensions": {
     "jupyter_dashboards": {
      "version": 1,
      "views": {
       "default_view": {
        "col": 0,
        "height": 2,
        "hidden": false,
        "row": 70,
        "width": 12
       }
      }
     }
    }
   },
   "outputs": [
    {
     "data": {
      "application/vnd.jupyter.widget-view+json": {
       "model_id": "38ed170cad2f4788b5eccde70a33c8c6",
       "version_major": 2,
       "version_minor": 0
      },
      "text/plain": [
       "Canvas(toolbar=Toolbar(toolitems=[('Home', 'Reset original view', 'home', 'home'), ('Back', 'Back to previous …"
      ]
     },
     "metadata": {},
     "output_type": "display_data"
    },
    {
     "data": {
      "application/vnd.jupyter.widget-view+json": {
       "model_id": "7773932cb3fb468aa316be0f10346138",
       "version_major": 2,
       "version_minor": 0
      },
      "text/plain": [
       "interactive(children=(IntText(value=1, description='deg'), Output()), _dom_classes=('widget-interact',))"
      ]
     },
     "metadata": {},
     "output_type": "display_data"
    }
   ],
   "source": [
    "# create another figure\n",
    "fig, ax1 = plt.subplots(figsize=(10, 4))\n",
    "plt.suptitle('Linear model')\n",
    "\n",
    "# same synthetic data used in exercise 1\n",
    "np.random.seed(0)\n",
    "x = np.linspace(-1,1,30)\n",
    "z = x - 2 * (x ** 2) + 0.5 * (x ** 3) + np.random.normal(-0.1, 0.1, 30)\n",
    "\n",
    "# define function for plot update when changing the degree widget\n",
    "def update_plot(deg):\n",
    "    ax1.clear()\n",
    "    \n",
    "    # use sklearn functions to fit the data given different model degrees\n",
    "    x1 = x[:, np.newaxis]\n",
    "    y1 = z[:, np.newaxis]\n",
    "    polynomial_features= PolynomialFeatures(degree=deg)\n",
    "    x_poly = polynomial_features.fit_transform(x1)\n",
    "    model = LinearRegression()\n",
    "    model.fit(x_poly, y1)\n",
    "    y_poly_pred = model.predict(x_poly)\n",
    "    X = x_poly\n",
    "    \n",
    "    # calculate and display the evaluation values\n",
    "    SSE = np.sum((y1-y_poly_pred)**2)\n",
    "    SST = np.sum((y1 - np.mean(y1))**2)\n",
    "    Rsqr = 1 - SSE/SST\n",
    "    err = z - np.reshape(y_poly_pred, (30,))\n",
    "    DW = (np.sum((np.diff(err))**2))/sum(err**2)\n",
    "    evalu='SSE = {} \\nRsq = {} \\nDW = {}'\n",
    "    \n",
    "    # plot the updated model and data\n",
    "    ax1.plot(x,y_poly_pred,'-', label=evalu.format(SSE,Rsqr,DW))\n",
    "    ax1.scatter(x,z,s=20, c=\"orange\")\n",
    "    ax1.set(ylabel = 'y', xlabel = 'x')\n",
    "    ax1.legend(loc='best')\n",
    "    plt.show()\n",
    "    \n",
    "    # print the updated OLS regression results\n",
    "    model = sm.OLS(z, X)\n",
    "    results = model.fit()\n",
    "    print(results.summary())\n",
    "    \n",
    "# set the degree widget and call function update_plot\n",
    "deg = widgets.IntText(value=1)\n",
    "\n",
    "widgets.interactive(update_plot, deg = deg)"
   ]
  }
 ],
 "metadata": {
  "extensions": {
   "jupyter_dashboards": {
    "activeView": "default_view",
    "version": 1,
    "views": {
     "default_view": {
      "cellMargin": 10,
      "defaultCellHeight": 40,
      "maxColumns": 12,
      "name": "active_view",
      "type": "grid"
     }
    }
   }
  },
  "kernelspec": {
   "display_name": "Python 3",
   "language": "python",
   "name": "python3"
  },
  "language_info": {
   "codemirror_mode": {
    "name": "ipython",
    "version": 3
   },
   "file_extension": ".py",
   "mimetype": "text/x-python",
   "name": "python",
   "nbconvert_exporter": "python",
   "pygments_lexer": "ipython3",
   "version": "3.8.3"
  }
 },
 "nbformat": 4,
 "nbformat_minor": 4
}
