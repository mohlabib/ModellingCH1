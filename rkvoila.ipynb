{
 "cells": [
  {
   "cell_type": "code",
   "execution_count": 1,
   "id": "327f8d14",
   "metadata": {
    "extensions": {
     "jupyter_dashboards": {
      "version": 1,
      "views": {
       "default_view": {
        "hidden": true
       }
      }
     }
    }
   },
   "outputs": [],
   "source": [
    "from bqplot import pyplot as plt\n",
    "import bqplot as bqp"
   ]
  },
  {
   "cell_type": "code",
   "execution_count": 2,
   "id": "97a7eb85",
   "metadata": {
    "extensions": {
     "jupyter_dashboards": {
      "version": 1,
      "views": {
       "default_view": {
        "hidden": true
       }
      }
     }
    }
   },
   "outputs": [],
   "source": [
    "import numpy as np"
   ]
  },
  {
   "cell_type": "code",
   "execution_count": 3,
   "id": "b658788a",
   "metadata": {
    "extensions": {
     "jupyter_dashboards": {
      "version": 1,
      "views": {
       "default_view": {
        "hidden": true
       }
      }
     }
    }
   },
   "outputs": [],
   "source": [
    "import ipywidgets as widgets"
   ]
  },
  {
   "cell_type": "markdown",
   "id": "b51a5885",
   "metadata": {
    "extensions": {
     "jupyter_dashboards": {
      "version": 1,
      "views": {
       "default_view": {
        "col": 0,
        "height": 4,
        "hidden": false,
        "row": 0,
        "width": 5
       }
      }
     }
    }
   },
   "source": [
    "The solution of the ordinary differential equation: $\\frac{dy(t)}{dt}=cos(t)$ is estimated in the below figure using the Runge-Kutta and Euler methods. Since the solution to this ODE is known ($y(t) = sin(t)$), the solution is plotted for comparison to the solutions from both methods. \n",
    "\n",
    "$t_0$ and $t_f$ resemble the starting and ending points of array `t` respectively. Set the value of $t_f$ to nearly $\\pi$ (in radians). Change the value of the input 'Step Size', from 1 to 0.1 to 0.001. What do you notice?"
   ]
  },
  {
   "cell_type": "code",
   "execution_count": 4,
   "id": "a718ce19",
   "metadata": {
    "extensions": {
     "jupyter_dashboards": {
      "version": 1,
      "views": {
       "default_view": {
        "hidden": true
       }
      }
     }
    }
   },
   "outputs": [],
   "source": [
    "# def RungeKutta(F, t0, h, tfinal, y0):\n",
    "#     t = np.arange(t0,tfinal,h)\n",
    "#     yout = np.ones(t.size)\n",
    "#     yout[0] = y0\n",
    "    \n",
    "#     for i in range(1,t.size):\n",
    "#         s1 = F(t[i])#, yout[i-1])\n",
    "#         s2 = F(t[i]+h/2)#, yout[i-1]+h*s1/2)\n",
    "#         s3 = F(t[i]+h/2)#, yout[i-1]+h*s2/2)\n",
    "#         s4 = F(t[i]+h)#, yout[i-1]+h*s3)\n",
    "#         yout[i] = yout[i-1] + h*(s1 + 2*s2 + 2*s3 + s4)/6\n",
    "#     return yout, t"
   ]
  },
  {
   "cell_type": "code",
   "execution_count": 5,
   "id": "01e788e3",
   "metadata": {
    "extensions": {
     "jupyter_dashboards": {
      "version": 1,
      "views": {
       "default_view": {
        "hidden": true
       }
      }
     }
    }
   },
   "outputs": [],
   "source": [
    "# def Euler(F, t0, h, tfinal, y0):\n",
    "#     t = np.arange(t0,tfinal,h)\n",
    "#     tsize = t.size\n",
    "#     yout = np.ones(tsize)\n",
    "#     yout[0] = y0\n",
    "    \n",
    "#     for i in range(1,tsize):\n",
    "#         s1 = F(t[i]+h)#,yout[i-1])\n",
    "#         yout[i] = yout[i-1] + s1*h \n",
    "#     return yout"
   ]
  },
  {
   "cell_type": "code",
   "execution_count": 6,
   "id": "647bd6b4",
   "metadata": {
    "extensions": {
     "jupyter_dashboards": {
      "version": 1,
      "views": {
       "default_view": {
        "col": 5,
        "height": 9,
        "hidden": false,
        "row": 0,
        "width": 6
       }
      }
     }
    }
   },
   "outputs": [
    {
     "data": {
      "application/vnd.jupyter.widget-view+json": {
       "model_id": "ace64e8638f34103beadd0e3ec8aca65",
       "version_major": 2,
       "version_minor": 0
      },
      "text/plain": [
       "Figure(animation_duration=1000, axes=[Axis(label='t', scale=LinearScale()), Axis(label='y(t)', orientation='ve…"
      ]
     },
     "metadata": {},
     "output_type": "display_data"
    },
    {
     "data": {
      "application/vnd.jupyter.widget-view+json": {
       "model_id": "3b421aa72ff14b339aaaa7657bc48cb3",
       "version_major": 2,
       "version_minor": 0
      },
      "text/plain": [
       "interactive(children=(FloatText(value=0.0, description='\\\\(t_0\\\\)'), FloatText(value=1.0, description='\\\\(t_f\\…"
      ]
     },
     "metadata": {},
     "output_type": "display_data"
    }
   ],
   "source": [
    "# setting the initial conditions\n",
    "# setting the initial conditions\n",
    "t0 = 0\n",
    "y0 = np.sin(t0)\n",
    "tfinal = 1\n",
    "h = 0.1\n",
    "\n",
    "# setting the bqp figure objects\n",
    "sc_x = bqp.LinearScale()\n",
    "sc_y = bqp.LinearScale()\n",
    "lineR = bqp.Lines(x=[], y=[], labels=['sin(t)'], colors=['darkblue'], display_legend = True, scales = {'x':sc_x, 'y': sc_y})\n",
    "lineRK = bqp.Lines(x=[], y=[], labels=['RK estimation'], colors=['darkgreen'], display_legend = True, scales = {'x':sc_x, 'y': sc_y})\n",
    "lineEu = bqp.Lines(x=[], y=[], labels=['Euler estimation'], colors=['magenta'], display_legend = True, scales = {'x':sc_x, 'y': sc_y})\n",
    "ax_x = bqp.Axis(scale=sc_x, label='t')\n",
    "ax_y = bqp.Axis(scale=sc_y, orientation='vertical', label='y(t)')\n",
    "fig = bqp.Figure(marks=[lineR, lineRK, lineEu], axes=[ax_x, ax_y], title='Estimation of ODE solution', \n",
    "                     legend_location='bottom', animation_duration=1000)\n",
    "display(fig)\n",
    "\n",
    "\n",
    "def update_plot(t0=t0,tfinal=tfinal, h=h):\n",
    "#     plt.figure(figsize=(10,4))\n",
    "    y0 = np.sin(t0)\n",
    "    def RungeKutta(F, t0, h, tfinal, y0):\n",
    "        t = np.arange(t0,tfinal,h)\n",
    "        yout = np.ones(t.size)\n",
    "        yout[0] = y0\n",
    "\n",
    "        for i in range(1,t.size):\n",
    "            s1 = F(t[i])#, yout[i-1])\n",
    "            s2 = F(t[i]+h/2)#, yout[i-1]+h*s1/2)\n",
    "            s3 = F(t[i]+h/2)#, yout[i-1]+h*s2/2)\n",
    "            s4 = F(t[i]+h)#, yout[i-1]+h*s3)\n",
    "            yout[i] = yout[i-1] + h*(s1 + 2*s2 + 2*s3 + s4)/6\n",
    "        return yout, t\n",
    "    \n",
    "    def Euler(F, t0, h, tfinal, y0):\n",
    "        t = np.arange(t0,tfinal,h)\n",
    "        tsize = t.size\n",
    "        yout = np.ones(tsize)\n",
    "        yout[0] = y0\n",
    "\n",
    "        for i in range(1,tsize):\n",
    "            s1 = F(t[i]+h)#,yout[i-1])\n",
    "            yout[i] = yout[i-1] + s1*h \n",
    "        return yout\n",
    "    F = lambda t : np.cos(t)\n",
    "    yout, t = RungeKutta(F, t0, h, tfinal, y0)\n",
    "    youtE = Euler(F, t0, h, tfinal, y0)\n",
    "    # update figure objects\n",
    "    lineR.x, lineRK.x, lineEu.x = t, t, t\n",
    "    lineR.y, lineRK.y, lineEu.y = np.sin(t), yout, youtE\n",
    "    \n",
    "t0 = widgets.FloatText(value=0, description=r'\\(t_0\\)')\n",
    "tfinal = widgets.FloatText(value=1, description=r'\\(t_f\\)')\n",
    "h = widgets.FloatText(value=0.1, description='Step Size')\n",
    "\n",
    "# call function update_plot when changing the model parameters values\n",
    "widgets.interactive(update_plot, t0=t0, tfinal=tfinal, h=h)"
   ]
  },
  {
   "cell_type": "code",
   "execution_count": 7,
   "id": "55f1736f",
   "metadata": {
    "extensions": {
     "jupyter_dashboards": {
      "version": 1,
      "views": {
       "default_view": {
        "hidden": true
       }
      }
     }
    }
   },
   "outputs": [],
   "source": [
    "# from scipy.integrate import solve_ivp"
   ]
  },
  {
   "cell_type": "code",
   "execution_count": 8,
   "id": "0e481dbc",
   "metadata": {
    "extensions": {
     "jupyter_dashboards": {
      "version": 1,
      "views": {
       "default_view": {
        "hidden": true
       }
      }
     }
    }
   },
   "outputs": [],
   "source": [
    "# F = lambda t, s: -s\n",
    "\n",
    "# t_eval = np.arange(0, 1.01, 0.01)\n",
    "# sol = solve_ivp(F, [0, 1], [1], t_eval=t_eval)\n",
    "\n",
    "# plt.figure(figsize = (9, 4))\n",
    "# plt.subplot(121)\n",
    "# plt.plot(sol.t, sol.y[0])\n",
    "# plt.xlabel('t')\n",
    "# plt.ylabel('S(t)')\n",
    "# plt.subplot(122)\n",
    "# plt.plot(sol.t, sol.y[0] - np.exp(-sol.t))\n",
    "# plt.xlabel('t')\n",
    "# plt.ylabel('S(t) - exp(-t)')\n",
    "# plt.tight_layout()\n",
    "# plt.show()"
   ]
  },
  {
   "cell_type": "code",
   "execution_count": null,
   "id": "56d87274",
   "metadata": {
    "extensions": {
     "jupyter_dashboards": {
      "version": 1,
      "views": {
       "default_view": {
        "hidden": true
       }
      }
     }
    }
   },
   "outputs": [],
   "source": []
  }
 ],
 "metadata": {
  "extensions": {
   "jupyter_dashboards": {
    "activeView": "default_view",
    "version": 1,
    "views": {
     "default_view": {
      "cellMargin": 10,
      "defaultCellHeight": 40,
      "maxColumns": 12,
      "name": "active_view",
      "type": "grid"
     }
    }
   }
  },
  "kernelspec": {
   "display_name": "Python 3 (ipykernel)",
   "language": "python",
   "name": "python3"
  },
  "language_info": {
   "codemirror_mode": {
    "name": "ipython",
    "version": 3
   },
   "file_extension": ".py",
   "mimetype": "text/x-python",
   "name": "python",
   "nbconvert_exporter": "python",
   "pygments_lexer": "ipython3",
   "version": "3.8.11"
  }
 },
 "nbformat": 4,
 "nbformat_minor": 5
}
