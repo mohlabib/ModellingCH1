{
 "cells": [
  {
   "cell_type": "code",
   "execution_count": 70,
   "id": "327f8d14",
   "metadata": {
    "extensions": {
     "jupyter_dashboards": {
      "version": 1,
      "views": {
       "default_view": {
        "hidden": true
       }
      }
     }
    }
   },
   "outputs": [],
   "source": [
    "from bqplot import pyplot as plt\n",
    "import bqplot as bqp"
   ]
  },
  {
   "cell_type": "code",
   "execution_count": 71,
   "id": "97a7eb85",
   "metadata": {
    "extensions": {
     "jupyter_dashboards": {
      "version": 1,
      "views": {
       "default_view": {
        "hidden": true
       }
      }
     }
    }
   },
   "outputs": [],
   "source": [
    "import numpy as np"
   ]
  },
  {
   "cell_type": "code",
   "execution_count": 72,
   "id": "b658788a",
   "metadata": {
    "extensions": {
     "jupyter_dashboards": {
      "version": 1,
      "views": {
       "default_view": {
        "hidden": true
       }
      }
     }
    }
   },
   "outputs": [],
   "source": [
    "import ipywidgets as widgets"
   ]
  },
  {
   "cell_type": "markdown",
   "id": "b51a5885",
   "metadata": {
    "extensions": {
     "jupyter_dashboards": {
      "version": 1,
      "views": {
       "default_view": {
        "col": 0,
        "height": 4,
        "hidden": false,
        "row": 0,
        "width": 5
       }
      }
     }
    }
   },
   "source": [
    "The solution of the ordinary differential equation: $\\frac{dy(t)}{dt}=cos(t)$ is approximated in the below figure using the Runge-Kutta and Euler methods. Since the solution to this ODE is known ($y(t) = sin(t)$), the solution is plotted for comparison to the solutions from both methods. \n",
    "\n",
    "$t_0$ and $t_f$ resemble the starting and ending points of array `t` respectively. Set the value of $t_f$ to nearly $2\\pi$ (in radians). Change the value of the input 'Step Size', from 1 to 0.1 to 0.001. \n",
    "   - What do you notice? \n",
    "   - Based on the knowledge you gained from the session, do you think you can do such an exercise manually (with pen, paper and a calculator)? Which method would be less time consuming to solve?\n",
    "   - What is the major downside of having a very small step size? \n",
    "   - Are there other methods that can yield better approximations for this ODE than the ones used here? Find yourself."
   ]
  },
  {
   "cell_type": "code",
   "execution_count": 76,
   "id": "647bd6b4",
   "metadata": {
    "extensions": {
     "jupyter_dashboards": {
      "version": 1,
      "views": {
       "default_view": {
        "col": 5,
        "height": 9,
        "hidden": false,
        "row": 0,
        "width": 6
       }
      }
     }
    }
   },
   "outputs": [
    {
     "data": {
      "application/vnd.jupyter.widget-view+json": {
       "model_id": "782d670497a8455183300f50ee3b22d4",
       "version_major": 2,
       "version_minor": 0
      },
      "text/plain": [
       "HBox(children=(VBox(children=(Figure(animation_duration=1000, axes=[Axis(label='t', scale=LinearScale()), Axis…"
      ]
     },
     "metadata": {},
     "output_type": "display_data"
    }
   ],
   "source": [
    "# setting the initial conditions\n",
    "t0 = 0\n",
    "y0 = np.sin(t0)\n",
    "tfinal = 1\n",
    "h = 0.1\n",
    "\n",
    "# setting the bqp figure objects\n",
    "\n",
    "sc_x = bqp.LinearScale()\n",
    "sc_y = bqp.LinearScale()\n",
    "lineR = bqp.Lines(x=[], y=[], labels=['sin(t)'], colors=['darkblue'], display_legend = True, scales = {'x':sc_x, 'y': sc_y})\n",
    "lineRK = bqp.Lines(x=[], y=[], labels=['RK approximation'], colors=['darkgreen'], display_legend = True, scales = {'x':sc_x, 'y': sc_y})\n",
    "lineEu = bqp.Lines(x=[], y=[], labels=['Euler approximation'], colors=['magenta'], display_legend = True, scales = {'x':sc_x, 'y': sc_y})\n",
    "ax_x = bqp.Axis(scale=sc_x, label='t')\n",
    "ax_y = bqp.Axis(scale=sc_y, orientation='vertical', label='y(t)')\n",
    "#mainfigLayout = widgets.Layout(width='1400px', height='600px')\n",
    "fig = bqp.Figure(marks=[lineR, lineRK, lineEu], axes=[ax_x, ax_y], title='Approximation of ODE solution', \n",
    "                     legend_location='bottom', animation_duration=1000, preserve_aspect=True)\n",
    "fig.layout.width = '700px'\n",
    "fig.layout.length = '600px'\n",
    "\n",
    "#display(fig)\n",
    "\n",
    "RKerr_fig = plt.figure(animation_duration=1000, preserve_aspect=True, title='RK approximation - sin(t)')\n",
    "RKerr_fig.layout.height = '300px'\n",
    "RKerr_fig.layout.width = '400px'\n",
    "RKerr_lin = plt.plot(x=[], y=[])\n",
    "#plt.xlabel(\"t\")\n",
    "\n",
    "Eerr_fig = plt.figure(animation_duration=1000, preserve_aspect=True, title='Euler approximation - sin(t)')\n",
    "Eerr_fig.layout.height = '300px'\n",
    "Eerr_fig.layout.width = '400px'\n",
    "Eerr_lin = plt.plot(x=[], y=[])\n",
    "\n",
    "def update_plot(t0=t0,tfinal=tfinal, h=h):\n",
    "#     plt.figure(figsize=(10,4))\n",
    "    y0 = np.sin(t0)\n",
    "    def RungeKutta(F, t0, h, tfinal, y0):\n",
    "        t = np.arange(t0,tfinal,h)\n",
    "        yout = np.ones(t.size)\n",
    "        yout[0] = y0\n",
    "\n",
    "        for i in range(1,t.size):\n",
    "            s1 = F(t[i])#, yout[i-1])\n",
    "            s2 = F(t[i]+h/2)#, yout[i-1]+h*s1/2)\n",
    "            s3 = F(t[i]+h/2)#, yout[i-1]+h*s2/2)\n",
    "            s4 = F(t[i]+h)#, yout[i-1]+h*s3)\n",
    "            yout[i] = yout[i-1] + h*(s1 + 2*s2 + 2*s3 + s4)/6\n",
    "        return yout, t\n",
    "    \n",
    "    def Euler(F, t0, h, tfinal, y0):\n",
    "        t = np.arange(t0,tfinal,h)\n",
    "        tsize = t.size\n",
    "        yout = np.ones(tsize)\n",
    "        yout[0] = y0\n",
    "\n",
    "        for i in range(1,tsize):\n",
    "            s1 = F(t[i]+h)#,yout[i-1])\n",
    "            yout[i] = yout[i-1] + s1*h \n",
    "        return yout\n",
    "    F = lambda t : np.cos(t)\n",
    "    yout, t = RungeKutta(F, t0, h, tfinal, y0)\n",
    "    youtE = Euler(F, t0, h, tfinal, y0)\n",
    "    \n",
    "    # update figure objects\n",
    "    lineR.x, lineRK.x, lineEu.x = t, t, t\n",
    "    lineR.y, lineRK.y, lineEu.y = np.sin(t), yout, youtE\n",
    "    RKerr_lin.x, Eerr_lin.x = t, t \n",
    "    RKerr_lin.y = np.sin(t) - yout\n",
    "    Eerr_lin.y = np.sin(t) - youtE\n",
    "    \n",
    "t0 = widgets.FloatText(value=0, description=r'\\(t_0\\)')\n",
    "tfinal = widgets.FloatText(value=0, description=r'\\(t_f\\)')\n",
    "h = widgets.FloatText(value=0.1, description='Step Size')\n",
    "\n",
    "right_box = widgets.VBox([RKerr_fig, Eerr_fig])\n",
    "left_box = widgets.VBox([fig, t0,tfinal,h])\n",
    "display(widgets.HBox([left_box, right_box]))\n",
    "\n",
    "# call function update_plot when changing the model parameters values\n",
    "interactive_plot=widgets.interactive(update_plot, t0=t0, tfinal=tfinal, h=h)"
   ]
  },
  {
   "cell_type": "code",
   "execution_count": null,
   "id": "8da033e8-9ce4-4aae-8d1d-265eedff7ec5",
   "metadata": {},
   "outputs": [],
   "source": []
  }
 ],
 "metadata": {
  "extensions": {
   "jupyter_dashboards": {
    "activeView": "default_view",
    "version": 1,
    "views": {
     "default_view": {
      "cellMargin": 10,
      "defaultCellHeight": 40,
      "maxColumns": 12,
      "name": "active_view",
      "type": "grid"
     }
    }
   }
  },
  "kernelspec": {
   "display_name": "Python 3 (ipykernel)",
   "language": "python",
   "name": "python3"
  },
  "language_info": {
   "codemirror_mode": {
    "name": "ipython",
    "version": 3
   },
   "file_extension": ".py",
   "mimetype": "text/x-python",
   "name": "python",
   "nbconvert_exporter": "python",
   "pygments_lexer": "ipython3",
   "version": "3.8.11"
  }
 },
 "nbformat": 4,
 "nbformat_minor": 5
}
