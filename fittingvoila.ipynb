{
 "cells": [
  {
   "cell_type": "markdown",
   "id": "e6ad676a",
   "metadata": {
    "extensions": {
     "jupyter_dashboards": {
      "version": 1,
      "views": {
       "default_view": {
        "col": 0,
        "height": 2,
        "hidden": false,
        "row": 62,
        "width": 12
       }
      }
     }
    }
   },
   "source": [
    "### Self-learning exercises "
   ]
  },
  {
   "cell_type": "markdown",
   "id": "b64f2193",
   "metadata": {
    "extensions": {
     "jupyter_dashboards": {
      "version": 1,
      "views": {
       "default_view": {
        "col": 0,
        "height": 2,
        "hidden": false,
        "row": 64,
        "width": 12
       }
      }
     }
    }
   },
   "source": [
    "The below figure shows synthetic data points based on a polynomial equation with an added random error (noise) in the range of -0.1 to 0.1. Change the values of the model parameters $\\beta_0$, $\\beta_1$, $\\beta_2$, $\\beta_3$ and $\\beta_4$ one at a time, and note the changes in the plot and values of $SSE$, $Rsqr$ and $DW$ printed below. Do you think it is possible to fit a model to such data manually? Initial values have been given to help you with the process."
   ]
  },
  {
   "cell_type": "code",
   "execution_count": 1,
   "id": "88332f2f",
   "metadata": {},
   "outputs": [],
   "source": [
    "import numpy as np\n",
    "from bqplot import pyplot as plt"
   ]
  },
  {
   "cell_type": "code",
   "execution_count": 2,
   "id": "640c7c57",
   "metadata": {
    "extensions": {
     "jupyter_dashboards": {
      "version": 1,
      "views": {
       "default_view": {
        "hidden": true
       }
      }
     }
    }
   },
   "outputs": [],
   "source": [
    "import ipywidgets as widgets"
   ]
  },
  {
   "cell_type": "code",
   "execution_count": 3,
   "id": "b9835eed",
   "metadata": {
    "extensions": {
     "jupyter_dashboards": {
      "version": 1,
      "views": {
       "default_view": {
        "col": 0,
        "height": 2,
        "hidden": false,
        "row": 66,
        "width": 12
       }
      }
     }
    }
   },
   "outputs": [
    {
     "data": {
      "application/vnd.jupyter.widget-view+json": {
       "model_id": "e3360c2e4300408ab8d2147276d687da",
       "version_major": 2,
       "version_minor": 0
      },
      "text/plain": [
       "interactive(children=(FloatText(value=0.5, description='\\\\(\\\\beta_4\\\\)'), FloatText(value=0.5, description='\\\\…"
      ]
     },
     "metadata": {},
     "output_type": "display_data"
    }
   ],
   "source": [
    "# synthetic input data\n",
    "np.random.seed(0)\n",
    "x = np.linspace(-1,1,30)\n",
    "z = x - 2 * (x ** 2) + 0.5 * (x ** 3) + 0.2 * (x ** 4) + np.random.normal(-0.1, 0.1, 30)\n",
    "\n",
    "# function to update plot based on input model parameters\n",
    "def update_plot(b4, b3, b2, b1, b0):\n",
    "    #ax.clear()\n",
    "    plt.figure(figsize=(8,4))\n",
    "    y = b4*x**4 + b3*x**3 + b2*x**2 + b1*x + b0\n",
    "    SSE = np.sum((z-y)**2)\n",
    "    SST = np.sum((z - np.mean(z))**2)\n",
    "    Rsqr = 1 - SSE/SST\n",
    "    err = z - y\n",
    "    DW = (np.sum((np.diff(err))**2))/sum(err**2)\n",
    "    evalu = 'SSE= {} \\nRsq = {} \\nDW = {}'\n",
    "    label=evalu.format(SSE,Rsqr,DW)\n",
    "    plt.plot(x,y)\n",
    "    plt.scatter(x,z,colors=['orange'])\n",
    "    plt.show()\n",
    "    print(label)\n",
    "# create widgets\n",
    "b4 = widgets.FloatText(value=0.5, description=r'\\(\\beta_4\\)')\n",
    "b3 = widgets.FloatText(value=0.5, description=r'\\(\\beta_3\\)')\n",
    "b2 = widgets.FloatText(value=-1.5977, description=r'\\(\\beta_2\\)')\n",
    "b1 = widgets.FloatText(value=0.6048, description=r'\\(\\beta_1\\)')\n",
    "b0 = widgets.FloatText(value=-0.0922, description=r'\\(\\beta_0\\)')\n",
    "\n",
    "# call function update_plot when changing the model parameters values\n",
    "widgets.interactive(update_plot, b4=b4, b3=b3, b2=b2, b1=b1, b0=b0)"
   ]
  },
  {
   "cell_type": "markdown",
   "id": "9a60ecb1",
   "metadata": {
    "extensions": {
     "jupyter_dashboards": {
      "version": 1,
      "views": {
       "default_view": {
        "col": 0,
        "height": 2,
        "hidden": false,
        "row": 68,
        "width": 12
       }
      }
     }
    }
   },
   "source": [
    "In the below figure, the same data points are used as in the previous task. Change the polynomial degree and note the changes in model parameters (coef) and other evaluation values shown in the table printed below. \n",
    "   - Based on your understanding from the sessions, what is the best model equation that can fit this sample of data? \n",
    "   - Compare the OLS parameters results to the values you tried in the last task."
   ]
  },
  {
   "cell_type": "code",
   "execution_count": 4,
   "id": "f4061bc9",
   "metadata": {
    "extensions": {
     "jupyter_dashboards": {
      "version": 1,
      "views": {
       "default_view": {
        "hidden": true
       }
      }
     }
    }
   },
   "outputs": [],
   "source": [
    "from sklearn.linear_model import LinearRegression"
   ]
  },
  {
   "cell_type": "code",
   "execution_count": 5,
   "id": "640130d7",
   "metadata": {
    "extensions": {
     "jupyter_dashboards": {
      "version": 1,
      "views": {
       "default_view": {
        "hidden": true
       }
      }
     }
    }
   },
   "outputs": [],
   "source": [
    "from sklearn.preprocessing import PolynomialFeatures"
   ]
  },
  {
   "cell_type": "code",
   "execution_count": 6,
   "id": "4953eac5",
   "metadata": {
    "extensions": {
     "jupyter_dashboards": {
      "version": 1,
      "views": {
       "default_view": {
        "hidden": true
       }
      }
     }
    }
   },
   "outputs": [],
   "source": [
    "import statsmodels.api as sm"
   ]
  },
  {
   "cell_type": "code",
   "execution_count": 7,
   "id": "39127a8b",
   "metadata": {
    "extensions": {
     "jupyter_dashboards": {
      "version": 1,
      "views": {
       "default_view": {
        "col": 0,
        "height": 2,
        "hidden": false,
        "row": 70,
        "width": 12
       }
      }
     }
    }
   },
   "outputs": [
    {
     "data": {
      "application/vnd.jupyter.widget-view+json": {
       "model_id": "b76cd80b9b68486e86885af5ea0f675e",
       "version_major": 2,
       "version_minor": 0
      },
      "text/plain": [
       "interactive(children=(IntText(value=0, description='Degree'), Output()), _dom_classes=('widget-interact',))"
      ]
     },
     "metadata": {},
     "output_type": "display_data"
    }
   ],
   "source": [
    "# same synthetic data used in exercise 1\n",
    "np.random.seed(0)\n",
    "x = np.linspace(-1,1,30)\n",
    "z = x - 2 * (x ** 2) + 0.5 * (x ** 3) + np.random.normal(-0.1, 0.1, 30)\n",
    "\n",
    "# define function for plot update when changing the degree widget\n",
    "def update_plot(deg):\n",
    "    if deg >= 0:\n",
    "        plt.figure(title='Polynomial Degrees',figsize=(8,4))\n",
    "    \n",
    "        # use sklearn functions to fit the data given different model degrees\n",
    "        x1 = x[:, np.newaxis]\n",
    "        y1 = z[:, np.newaxis]\n",
    "        polynomial_features= PolynomialFeatures(degree=deg)\n",
    "        x_poly = polynomial_features.fit_transform(x1)\n",
    "        model = LinearRegression()\n",
    "        model.fit(x_poly, y1)\n",
    "        y_poly_pred = model.predict(x_poly)\n",
    "        X = x_poly\n",
    "    \n",
    "        # plot the updated model and data\n",
    "        plt.plot(x,y_poly_pred)\n",
    "        plt.scatter(x,z,colors=['orange'])\n",
    "        plt.show()\n",
    "\n",
    "        # print the updated OLS regression results\n",
    "        model = sm.OLS(z, X)\n",
    "        results = model.fit()\n",
    "        print(results.summary())\n",
    "        \n",
    "    else:\n",
    "         print(\"Polynomial Degree has to be larger than 0\")   \n",
    "    \n",
    "# set the degree widget and call function update_plot\n",
    "Degree = widgets.IntText(value=0, min=0, max=28, description='Degree')\n",
    "\n",
    "widgets.interactive(update_plot, deg = Degree)"
   ]
  },
  {
   "cell_type": "code",
   "execution_count": null,
   "id": "56617d50",
   "metadata": {},
   "outputs": [],
   "source": []
  }
 ],
 "metadata": {
  "kernelspec": {
   "display_name": "Python 3 (ipykernel)",
   "language": "python",
   "name": "python3"
  },
  "language_info": {
   "codemirror_mode": {
    "name": "ipython",
    "version": 3
   },
   "file_extension": ".py",
   "mimetype": "text/x-python",
   "name": "python",
   "nbconvert_exporter": "python",
   "pygments_lexer": "ipython3",
   "version": "3.8.11"
  }
 },
 "nbformat": 4,
 "nbformat_minor": 5
}
